{
  "nbformat": 4,
  "nbformat_minor": 0,
  "metadata": {
    "colab": {
      "name": "RANGAMSAICHARAN_20BCS108_OOP TASK 5",
      "provenance": [],
      "authorship_tag": "ABX9TyNDMCsa1sHH6/N41WtmEl+u",
      "include_colab_link": true
    },
    "kernelspec": {
      "name": "python3",
      "display_name": "Python 3"
    },
    "language_info": {
      "name": "python"
    }
  },
  "cells": [
    {
      "cell_type": "markdown",
      "metadata": {
        "id": "view-in-github",
        "colab_type": "text"
      },
      "source": [
        "<a href=\"https://colab.research.google.com/github/rangamsaicharan/RANGAMSAICHARAN_20BCS108_OOP-TASK-5/blob/main/RANGAMSAICHARAN_20BCS108_OOP_TASK_5.ipynb\" target=\"_parent\"><img src=\"https://colab.research.google.com/assets/colab-badge.svg\" alt=\"Open In Colab\"/></a>"
      ]
    },
    {
      "cell_type": "code",
      "metadata": {
        "colab": {
          "base_uri": "https://localhost:8080/"
        },
        "id": "T7WQ3V74cV0z",
        "outputId": "90be91b3-08f6-4e89-92f6-dc6e08a2561f"
      },
      "source": [
        "from abc import ABC, abstractmethod\n",
        "import math\n",
        "class Shape(ABC):\n",
        "    def __init__(self, shape):\n",
        "        self.shape = shape\n",
        "\n",
        "    @abstractmethod\n",
        "    def area(self):\n",
        "        pass\n",
        "\n",
        "class Rectangle(Shape):\n",
        "    def __init__(self, length, breadth):\n",
        "        Shape.__init__(self, 'Rectangle')\n",
        "        self.length = length\n",
        "        self.breadth = breadth\n",
        "\n",
        "    def area(self):\n",
        "        return self.length*self.breadth\n",
        "\n",
        "class Circle(Shape):\n",
        "    def __init__(self, radius):\n",
        "        Shape.__init__(self, 'Circle')\n",
        "        self.radius = radius\n",
        "\n",
        "    def area(self):\n",
        "        return round((math.pi)*(self.radius**2),3)\n",
        "\n",
        "class Square(Shape):\n",
        "    def __init__(self, side):\n",
        "        Shape.__init__(self, 'Square')\n",
        "        self.side = side\n",
        "\n",
        "    def area(self):\n",
        "        return self.side*self.side\n",
        "\n",
        "sq = Square(12)\n",
        "print(\"Area of square   :\", sq.area())\n",
        "rect = Rectangle(6,9)\n",
        "print(\"Area of rectangle:\", rect.area())\n",
        "c = Circle(7)\n",
        "print(\"Area of circle   :\", c.area())"
      ],
      "execution_count": 19,
      "outputs": [
        {
          "output_type": "stream",
          "name": "stdout",
          "text": [
            "Area of square   : 144\n",
            "Area of rectangle: 54\n",
            "Area of circle   : 153.938\n"
          ]
        }
      ]
    },
    {
      "cell_type": "code",
      "metadata": {
        "colab": {
          "base_uri": "https://localhost:8080/"
        },
        "id": "FgJXJxiufmK_",
        "outputId": "ca2a9bf9-23ee-4ceb-95d9-06b215d73ecb"
      },
      "source": [
        "class Travel:\n",
        "\n",
        "  def __init__(self, travel):\n",
        "    self.travel = travel\n",
        "\n",
        "  def __number_of__passangers(self):\n",
        "    pass\n",
        "\n",
        "  def distance(self):\n",
        "    pass\n",
        "\n",
        "  def mode(self):\n",
        "    pass\n",
        "\n",
        "class train(Travel):\n",
        "\n",
        "  def __init__(self, total_passangers):\n",
        "    self.total_passangers = total_passangers\n",
        "\n",
        "  def cost_of_transport(self):\n",
        "    print(self.total_passangers*60)\n",
        "\n",
        "class bus(Travel):\n",
        "\n",
        "  def __init__(self, total_passangers):\n",
        "    self.total_passangers = total_passangers\n",
        "\n",
        "  def cost_of_transport(self):\n",
        "    print(self.total_passangers*100)\n",
        "\n",
        "mode1 = train(9)\n",
        "mode1.cost_of_transport()\n",
        "\n",
        "mode2 = bus(4)\n",
        "mode2.cost_of_transport()"
      ],
      "execution_count": 20,
      "outputs": [
        {
          "output_type": "stream",
          "name": "stdout",
          "text": [
            "540\n",
            "400\n"
          ]
        }
      ]
    },
    {
      "cell_type": "code",
      "metadata": {
        "colab": {
          "base_uri": "https://localhost:8080/"
        },
        "id": "kx2f-pZDgSS3",
        "outputId": "5b1039ba-9a12-4889-c08b-ab143a886b3a"
      },
      "source": [
        "class Car:\n",
        "\n",
        "  def __init__(self, model_no):\n",
        "    self.model_no = model_no\n",
        "\n",
        "  def print__model__no(self):\n",
        "    print(self.model_no)\n",
        "\n",
        "c1 = Car(\"model no. of c1 = a101\")\n",
        "c1.print__model__no()\n",
        "\n",
        "c2 = Car(\"model no. of c2 = b199\")\n",
        "c2.print__model__no()\n",
        "print(\"\\n\")\n",
        "\n",
        "var = c1\n",
        "c1 = c2\n",
        "c2 = var\n",
        "\n",
        "c1.print__model__no()\n",
        "c2.print__model__no()"
      ],
      "execution_count": 24,
      "outputs": [
        {
          "output_type": "stream",
          "name": "stdout",
          "text": [
            "model no. of c1 = a101\n",
            "model no. of c2 = b199\n",
            "\n",
            "\n",
            "model no. of c2 = b199\n",
            "model no. of c1 = a101\n"
          ]
        }
      ]
    }
  ]
}